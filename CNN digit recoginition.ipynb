{
 "cells": [
  {
   "cell_type": "code",
   "execution_count": 91,
   "id": "015ddf3d",
   "metadata": {},
   "outputs": [],
   "source": [
    "import tensorflow as tf\n",
    "\n",
    "from tensorflow.keras import datasets, layers, models\n",
    "import matplotlib.pyplot as plt"
   ]
  },
  {
   "cell_type": "code",
   "execution_count": 92,
   "id": "54c7c584",
   "metadata": {},
   "outputs": [],
   "source": [
    "(train_digits, train_labels), (test_digits, test_labels) = datasets.mnist.load_data()"
   ]
  },
  {
   "cell_type": "markdown",
   "id": "1cfc76ca",
   "metadata": {},
   "source": [
    "1) Plot of first 9 images in training datasets"
   ]
  },
  {
   "cell_type": "code",
   "execution_count": 93,
   "id": "0ee1c065",
   "metadata": {},
   "outputs": [
    {
     "data": {
      "image/png": "[encoded data removed]",
      "text/plain": [
       "<Figure size 432x288 with 9 Axes>"
      ]
     },
     "metadata": {
      "needs_background": "light"
     },
     "output_type": "display_data"
    }
   ],
   "source": [
    "# plot first few images\n",
    "for i in range(9):\n",
    " # define subplot\n",
    " plt.subplot(330 + 1 + i)\n",
    " # plot raw pixel data\n",
    " plt.imshow(train_digits[i], cmap=plt.get_cmap('gray'))\n",
    " plt.title(\"Label: \" + str(train_labels[i]))\n",
    "plt.tight_layout()\n",
    "# show the figure\n",
    "plt.show()\n",
    "\n"
   ]
  },
  {
   "cell_type": "markdown",
   "id": "732becf7",
   "metadata": {},
   "source": [
    "2) Preparing the data by reshaping it and assgining the training labels to differen categories corresponding to each digit"
   ]
  },
  {
   "cell_type": "code",
   "execution_count": 94,
   "id": "d6a4b275",
   "metadata": {},
   "outputs": [],
   "source": [
    "train_digits = train_digits.reshape(60000,28,28,1) \n",
    "train_labels = tf.keras.utils.to_categorical(train_labels,10)  "
   ]
  },
  {
   "cell_type": "code",
   "execution_count": 95,
   "id": "ca10991b",
   "metadata": {},
   "outputs": [],
   "source": [
    "test_digits = test_digits.reshape(10000,28,28,1) \n",
    "test_labels = tf.keras.utils.to_categorical(test_labels,10)  "
   ]
  },
  {
   "cell_type": "markdown",
   "id": "67304dc0",
   "metadata": {},
   "source": [
    "3) Build your CNN model with Conv2D with (3, 3) filters and MaxPooling2D((2, 2)). Show the \n",
    "summary of your model."
   ]
  },
  {
   "cell_type": "code",
   "execution_count": 96,
   "id": "a1ba7148",
   "metadata": {},
   "outputs": [],
   "source": [
    "model = models.Sequential()\n",
    "model.add(layers.Conv2D(32, (3, 3), activation='relu', input_shape=(28, 28, 1)))\n",
    "model.add(layers.MaxPooling2D((2, 2)))\n",
    "model.add(layers.Conv2D(64, (3, 3), activation='relu'))\n",
    "model.add(layers.MaxPooling2D((2, 2)))\n",
    "model.add(layers.Conv2D(64, (3, 3), activation='relu'))"
   ]
  },
  {
   "cell_type": "code",
   "execution_count": 97,
   "id": "df6dab1e",
   "metadata": {},
   "outputs": [
    {
     "name": "stdout",
     "output_type": "stream",
     "text": [
      "Model: \"sequential_12\"\n",
      "_________________________________________________________________\n",
      " Layer (type)                Output Shape              Param #   \n",
      "=================================================================\n",
      " conv2d_31 (Conv2D)          (None, 26, 26, 32)        320       \n",
      "                                                                 \n",
      " max_pooling2d_21 (MaxPoolin  (None, 13, 13, 32)       0         \n",
      " g2D)                                                            \n",
      "                                                                 \n",
      " conv2d_32 (Conv2D)          (None, 11, 11, 64)        18496     \n",
      "                                                                 \n",
      " max_pooling2d_22 (MaxPoolin  (None, 5, 5, 64)         0         \n",
      " g2D)                                                            \n",
      "                                                                 \n",
      " conv2d_33 (Conv2D)          (None, 3, 3, 64)          36928     \n",
      "                                                                 \n",
      "=================================================================\n",
      "Total params: 55,744\n",
      "Trainable params: 55,744\n",
      "Non-trainable params: 0\n",
      "_________________________________________________________________\n"
     ]
    }
   ],
   "source": [
    "##Summary of the model\n",
    "\n",
    "model.summary()"
   ]
  },
  {
   "cell_type": "code",
   "execution_count": 98,
   "id": "66695808",
   "metadata": {},
   "outputs": [],
   "source": [
    "##Adding dense layers on top\n",
    "\n",
    "model.add(layers.Flatten())\n",
    "model.add(layers.Dense(64, activation='relu'))\n",
    "model.add(layers.Dense(10))"
   ]
  },
  {
   "cell_type": "code",
   "execution_count": 99,
   "id": "b4427c8e",
   "metadata": {},
   "outputs": [
    {
     "name": "stdout",
     "output_type": "stream",
     "text": [
      "Model: \"sequential_12\"\n",
      "_________________________________________________________________\n",
      " Layer (type)                Output Shape              Param #   \n",
      "=================================================================\n",
      " conv2d_31 (Conv2D)          (None, 26, 26, 32)        320       \n",
      "                                                                 \n",
      " max_pooling2d_21 (MaxPoolin  (None, 13, 13, 32)       0         \n",
      " g2D)                                                            \n",
      "                                                                 \n",
      " conv2d_32 (Conv2D)          (None, 11, 11, 64)        18496     \n",
      "                                                                 \n",
      " max_pooling2d_22 (MaxPoolin  (None, 5, 5, 64)         0         \n",
      " g2D)                                                            \n",
      "                                                                 \n",
      " conv2d_33 (Conv2D)          (None, 3, 3, 64)          36928     \n",
      "                                                                 \n",
      " flatten_8 (Flatten)         (None, 576)               0         \n",
      "                                                                 \n",
      " dense_16 (Dense)            (None, 64)                36928     \n",
      "                                                                 \n",
      " dense_17 (Dense)            (None, 10)                650       \n",
      "                                                                 \n",
      "=================================================================\n",
      "Total params: 93,322\n",
      "Trainable params: 93,322\n",
      "Non-trainable params: 0\n",
      "_________________________________________________________________\n"
     ]
    }
   ],
   "source": [
    "#complete architecture of our model.\n",
    "\n",
    "model.summary()"
   ]
  },
  {
   "cell_type": "markdown",
   "id": "9f1f810b",
   "metadata": {},
   "source": [
    "4) Compile  and  train  your  model.  Consider  the  choices  of  optimizer,  loss,  and  epochs.  What  are  \n",
    "your accuracy and val_accuracy?"
   ]
  },
  {
   "cell_type": "code",
   "execution_count": 100,
   "id": "dec60575",
   "metadata": {},
   "outputs": [
    {
     "name": "stdout",
     "output_type": "stream",
     "text": [
      "Epoch 1/10\n",
      "1875/1875 [==============================] - 50s 26ms/step - loss: 0.2799 - accuracy: 0.9443 - val_loss: 0.0559 - val_accuracy: 0.9835\n",
      "Epoch 2/10\n",
      "1875/1875 [==============================] - 45s 24ms/step - loss: 0.0658 - accuracy: 0.9797 - val_loss: 0.0537 - val_accuracy: 0.9830\n",
      "Epoch 3/10\n",
      "1875/1875 [==============================] - 43s 23ms/step - loss: 0.0521 - accuracy: 0.9840 - val_loss: 0.0449 - val_accuracy: 0.9867\n",
      "Epoch 4/10\n",
      "1875/1875 [==============================] - 62s 33ms/step - loss: 0.0459 - accuracy: 0.9859 - val_loss: 0.0436 - val_accuracy: 0.9860\n",
      "Epoch 5/10\n",
      "1875/1875 [==============================] - 50s 27ms/step - loss: 0.0365 - accuracy: 0.9888 - val_loss: 0.0476 - val_accuracy: 0.9881\n",
      "Epoch 6/10\n",
      "1875/1875 [==============================] - 48s 25ms/step - loss: 0.0350 - accuracy: 0.9901 - val_loss: 0.0461 - val_accuracy: 0.9858\n",
      "Epoch 7/10\n",
      "1875/1875 [==============================] - 46s 24ms/step - loss: 0.0320 - accuracy: 0.9905 - val_loss: 0.0378 - val_accuracy: 0.9896\n",
      "Epoch 8/10\n",
      "1875/1875 [==============================] - 51s 27ms/step - loss: 0.0252 - accuracy: 0.9918 - val_loss: 0.0686 - val_accuracy: 0.9826\n",
      "Epoch 9/10\n",
      "1875/1875 [==============================] - 50s 27ms/step - loss: 0.0246 - accuracy: 0.9929 - val_loss: 0.0506 - val_accuracy: 0.9881\n",
      "Epoch 10/10\n",
      "1875/1875 [==============================] - 49s 26ms/step - loss: 0.0241 - accuracy: 0.9931 - val_loss: 0.0568 - val_accuracy: 0.9878\n"
     ]
    }
   ],
   "source": [
    "model.compile(optimizer='adam',\n",
    "              loss=tf.keras.losses.CategoricalCrossentropy(from_logits=True),\n",
    "              metrics=['accuracy'])\n",
    "\n",
    "history = model.fit(train_digits, train_labels, epochs=10, \n",
    "                    validation_data=(test_digits, test_labels))"
   ]
  },
  {
   "cell_type": "markdown",
   "id": "e8dec110",
   "metadata": {},
   "source": [
    "5) Plot the history of model training against epoch. "
   ]
  },
  {
   "cell_type": "code",
   "execution_count": 118,
   "id": "f55e0554",
   "metadata": {},
   "outputs": [
    {
     "name": "stdout",
     "output_type": "stream",
     "text": [
      "313/313 - 2s - loss: 0.0568 - accuracy: 0.9878 - 2s/epoch - 8ms/step\n"
     ]
    },
    {
     "data": {
      "image/png": "[encoded data removed]",
      "text/plain": [
       "<Figure size 432x288 with 1 Axes>"
      ]
     },
     "metadata": {
      "needs_background": "light"
     },
     "output_type": "display_data"
    }
   ],
   "source": [
    "plt.plot(history.history['accuracy'], label='accuracy')\n",
    "plt.plot(history.history['val_accuracy'], label = 'val_accuracy')\n",
    "plt.xlabel('Epoch')\n",
    "plt.ylabel('Accuracy')\n",
    "plt.ylim([0.5, 1])\n",
    "plt.legend(loc='lower right')\n",
    "\n",
    "#train_loss, train_acc = model.evaluate(train_digits,  train_labels, verbose=2)\n",
    "test_loss, test_acc = model.evaluate(test_digits,  test_labels, verbose=2)"
   ]
  },
  {
   "cell_type": "markdown",
   "id": "9a26a475",
   "metadata": {},
   "source": [
    "6) Evaluate the model with the test data. "
   ]
  },
  {
   "cell_type": "code",
   "execution_count": 119,
   "id": "a83b5247",
   "metadata": {},
   "outputs": [
    {
     "name": "stdout",
     "output_type": "stream",
     "text": [
      "313/313 - 3s - loss: 0.0568 - accuracy: 0.9878 - 3s/epoch - 9ms/step\n",
      "0.9878000020980835\n"
     ]
    }
   ],
   "source": [
    "test_loss, test_acc = model.evaluate(test_digits,  test_labels, verbose=2)\n",
    "print(test_acc)"
   ]
  },
  {
   "cell_type": "markdown",
   "id": "3e7912c7",
   "metadata": {},
   "source": [
    "the trained model give an accuracy of 98%"
   ]
  }
 ],
 "metadata": {
  "kernelspec": {
   "display_name": "Python 3 (ipykernel)",
   "language": "python",
   "name": "python3"
  },
  "language_info": {
   "codemirror_mode": {
    "name": "ipython",
    "version": 3
   },
   "file_extension": ".py",
   "mimetype": "text/x-python",
   "name": "python",
   "nbconvert_exporter": "python",
   "pygments_lexer": "ipython3",
   "version": "3.9.7"
  }
 },
 "nbformat": 4,
 "nbformat_minor": 5
}
